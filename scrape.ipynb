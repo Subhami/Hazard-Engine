{
 "cells": [
  {
   "cell_type": "code",
   "execution_count": 2,
   "id": "db0e935a",
   "metadata": {},
   "outputs": [],
   "source": [
    "from bs4 import BeautifulSoup\n",
    "import requests\n",
    "import geemap\n",
    "import ee\n",
    "import pandas as pd\n",
    "import sched, time\n",
    "from twisted.internet import task, reactor"
   ]
  },
  {
   "cell_type": "code",
   "execution_count": 3,
   "id": "4216adfb",
   "metadata": {},
   "outputs": [],
   "source": [
    "s = sched.scheduler(time.time, time.sleep)\n",
    "Map = geemap.Map()"
   ]
  },
  {
   "cell_type": "code",
   "execution_count": 4,
   "id": "ea1c57e0",
   "metadata": {},
   "outputs": [],
   "source": [
    "def doWork():\n",
    "    url = \"https://waterdata.usgs.gov/mi/nwis/current/?type=flow&group_key=county_cd&site_no_name_select=siteno\"\n",
    "    page = requests.get(url)\n",
    "    soup = BeautifulSoup(page.content, 'html.parser')\n",
    "    table = soup.select('table')[1]\n",
    "    table_body_r = table.find('tbody').find_all(\"tr\")\n",
    "    l =[]\n",
    "    for tr in table_body_r:\n",
    "        td = tr.find_all('td')\n",
    "        row = [str(tr.get_text()).strip() for tr in td]\n",
    "        l.append(row)\n",
    "    l2 = [l[98],l[99]]\n",
    "    columns = table.find(\"thead\").find_all(\"th\")\n",
    "    column_names = [c.text for c in columns]\n",
    "    df2= pd.DataFrame(l2, columns = column_names)\n",
    "    df2.columns = df2.columns.str.replace('\\n', '')\n",
    "    df2.insert(2, \"latitude\", ['47.08416667', '47.22861111' ], True)\n",
    "    df2.insert(3, \"longitude\", ['-88.55055556', '-88.38527778' ], True)\n",
    "    df2.to_csv('file_name1.csv', header = 'TRUE')\n",
    "    in_csv = 'file_name1.csv'\n",
    "    Map.add_xy_data(in_csv, x=\"longitude\", y=\"latitude\", layer_name=\"csv to ee\", to_ee=True)\n",
    "    fc = geemap.csv_to_ee(in_csv)\n",
    "    Map.addLayer(fc, {}, 'csv to ee 2')\n",
    "    "
   ]
  },
  {
   "cell_type": "code",
   "execution_count": 8,
   "id": "d51d010f",
   "metadata": {},
   "outputs": [],
   "source": [
    "s.enter(5, 1, doWork, ())\n",
    "s.run()"
   ]
  },
  {
   "cell_type": "code",
   "execution_count": null,
   "id": "259b0176",
   "metadata": {},
   "outputs": [],
   "source": [
    "doWork()"
   ]
  },
  {
   "cell_type": "code",
   "execution_count": 9,
   "id": "1dbb05f6",
   "metadata": {},
   "outputs": [
    {
     "data": {
      "application/vnd.jupyter.widget-view+json": {
       "model_id": "d1e7a98d7f1044e29bd3b8287556a019",
       "version_major": 2,
       "version_minor": 0
      },
      "text/plain": [
       "Map(center=[20, 0], controls=(WidgetControl(options=['position', 'transparent_bg'], widget=HBox(children=(Togg…"
      ]
     },
     "metadata": {},
     "output_type": "display_data"
    }
   ],
   "source": [
    "Map"
   ]
  },
  {
   "cell_type": "code",
   "execution_count": null,
   "id": "13eb5028",
   "metadata": {},
   "outputs": [],
   "source": []
  }
 ],
 "metadata": {
  "kernelspec": {
   "display_name": "Python 3 (ipykernel)",
   "language": "python",
   "name": "python3"
  },
  "language_info": {
   "codemirror_mode": {
    "name": "ipython",
    "version": 3
   },
   "file_extension": ".py",
   "mimetype": "text/x-python",
   "name": "python",
   "nbconvert_exporter": "python",
   "pygments_lexer": "ipython3",
   "version": "3.9.13"
  }
 },
 "nbformat": 4,
 "nbformat_minor": 5
}
